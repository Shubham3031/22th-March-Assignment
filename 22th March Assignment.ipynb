{
 "cells": [
  {
   "cell_type": "code",
   "execution_count": null,
   "id": "52de4a0e-756b-47cb-96f9-7ad1a80e16c5",
   "metadata": {},
   "outputs": [],
   "source": [
    "# 1.Ans.\n",
    "\n",
    "To calculate the Pearson correlation coefficient, you need to first compute the covariance \n",
    "between the two variables, as well as their standard deviations. \n",
    "Then, you can use the formula for the Pearson correlation coefficient:\n",
    "\n",
    "r = cov(X,Y) / (s_X * s_Y)\n",
    "\n",
    "where r is the Pearson correlation coefficient, cov(X,Y) is the covariance between the two variables\n",
    "X and Y, and s_X and s_Y are the standard deviations of X and Y, respectively.\n",
    "\n",
    "Assuming you have the necessary data, you can perform the following steps:\n",
    "\n",
    "Calculate the mean of the time spent studying and the final exam scores.\n",
    "Calculate the deviations of each observation from their respective means for both variables.\n",
    "Calculate the product of the deviations for each observation (i.e., X - mean(X) multiplied by Y - mean(Y)).\n",
    "Calculate the covariance by summing the products of deviations and dividing by the sample size minus one.\n",
    "Calculate the standard deviations of both variables.\n",
    "Calculate the Pearson correlation coefficient using the formula above."
   ]
  },
  {
   "cell_type": "code",
   "execution_count": null,
   "id": "b2d96991-722b-47bb-8643-676ea4ba2afe",
   "metadata": {},
   "outputs": [],
   "source": [
    "# 2.Ans.\n",
    "\n",
    "To calculate Spearman's rank correlation coefficient, you need to first rank the observations \n",
    "for each variable, and then calculate the difference between their ranks. The coefficient is\n",
    "then calculated as the Pearson correlation coefficient between the ranks of the two variables.\n",
    "\n",
    "Assuming you have the necessary data, you can perform the following steps:\n",
    "\n",
    "Rank the observations for each variable separately, from lowest to highest.\n",
    "Calculate the difference between the ranks for each observation (i.e., rank of X - rank of Y).\n",
    "Calculate the Spearman's rank correlation coefficient using the formula:\n",
    "r_s = 1 - (6 * sum of (difference in ranks)^2) / (n*(n^2-1))\n",
    "\n",
    "where r_s is the Spearman's rank correlation coefficient, and n is the number of observations.\n",
    "\n"
   ]
  },
  {
   "cell_type": "code",
   "execution_count": null,
   "id": "d989c886-2ca3-4d2c-b824-8221dfa7b4ee",
   "metadata": {},
   "outputs": [],
   "source": [
    "# 3.Ans.\n",
    "\n",
    "To calculate the Pearson correlation coefficient and the Spearman's rank correlation, \n",
    "Here are the steps to calculate both coefficients:\n",
    "\n",
    "Enter the data on both variables into a spreadsheet or data analysis program.\n",
    "\n",
    "Calculate the Pearson correlation coefficient using the formula:\n",
    "\n",
    "Pearson's r = (nΣXY - ΣXΣY) / sqrt[(nΣX^2 - (ΣX)^2) * (nΣY^2 - (ΣY)^2)]\n",
    "\n",
    "where n is the number of observations, ΣXY is the sum of the products of X and Y,\n",
    "ΣX and ΣY are the sums of X and Y, and ΣX^2 and ΣY^2 are the sums of the squares of X and Y.\n",
    "\n",
    "Calculate the Spearman's rank correlation using the formula:\n",
    "\n",
    "Spearman's rho = 1 - (6ΣD^2 / (n(n^2 - 1)))\n",
    "\n",
    "where n is the number of observations, ΣD^2 is the sum of the squared differences between\n",
    "the ranks of X and Y, and D is the difference between the ranks of X and Y.\n",
    "\n",
    "The Pearson correlation coefficient measures the linear relationship between two continuous variables.\n",
    "The Spearman's rank correlation, on the other hand, measures the monotonic relationship between two variables.S"
   ]
  },
  {
   "cell_type": "code",
   "execution_count": null,
   "id": "7355da69-012a-41ad-9697-ac11a1d191f8",
   "metadata": {},
   "outputs": [],
   "source": [
    "# 4.Ans.\n",
    "\n",
    "To calculate the Pearson correlation coefficient between the number of hours individuals\n",
    "spend watching television per day and their level of physical activity, you will need to\n",
    "perform the following steps:\n",
    "\n",
    "Calculate the mean and standard deviation of both variables.\n",
    "Calculate the covariance between the two variables.\n",
    "Calculate the Pearson correlation coefficient using the formula:\n",
    "r = covariance / (standard deviation of TV watching hours * standard deviation of physical activity)"
   ]
  },
  {
   "cell_type": "code",
   "execution_count": null,
   "id": "a0929e9c-1177-4f04-b5f4-b22624f85d85",
   "metadata": {},
   "outputs": [],
   "source": [
    "# 5.Ans.\n",
    "\n",
    "   Question incomplete\n",
    "\n"
   ]
  },
  {
   "cell_type": "code",
   "execution_count": null,
   "id": "4329ec39-46a0-42de-938b-899aa16323be",
   "metadata": {},
   "outputs": [],
   "source": [
    "# 6.Ans.\n",
    "\n",
    "To calculate the Pearson correlation coefficient between the number of sales calls \n",
    "made per day and the number of sales made per week, you will need to perform the following steps:\n",
    "\n",
    "Calculate the mean and standard deviation of both variables.\n",
    "Calculate the covariance between the two variables.\n",
    "Calculate the Pearson correlation coefficient using the formula:\n",
    "r = covariance / (standard deviation of sales calls * standard deviation of sales made)\n"
   ]
  }
 ],
 "metadata": {
  "kernelspec": {
   "display_name": "Python 3 (ipykernel)",
   "language": "python",
   "name": "python3"
  },
  "language_info": {
   "codemirror_mode": {
    "name": "ipython",
    "version": 3
   },
   "file_extension": ".py",
   "mimetype": "text/x-python",
   "name": "python",
   "nbconvert_exporter": "python",
   "pygments_lexer": "ipython3",
   "version": "3.10.6"
  }
 },
 "nbformat": 4,
 "nbformat_minor": 5
}
